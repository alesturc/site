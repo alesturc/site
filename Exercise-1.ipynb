{
 "cells": [
  {
   "cell_type": "code",
   "execution_count": 15,
   "id": "93dea52a-35ec-458c-bf1f-dbc64bc79a7a",
   "metadata": {},
   "outputs": [],
   "source": [
    "#Problem 2"
   ]
  },
  {
   "cell_type": "markdown",
   "id": "2b9f1ef7-aa27-458b-9fdb-d518a056189e",
   "metadata": {},
   "source": [
    "ice_cream_rating = 10"
   ]
  },
  {
   "cell_type": "markdown",
   "id": "8ca6d911-176b-4251-b814-d419492f2c03",
   "metadata": {},
   "source": [
    "sleeping_rating = 9"
   ]
  },
  {
   "cell_type": "code",
   "execution_count": 18,
   "id": "b1c11e53-98fb-4d70-952b-606ae1b469c8",
   "metadata": {},
   "outputs": [],
   "source": [
    "#Problem 3"
   ]
  },
  {
   "cell_type": "markdown",
   "id": "57f1e351-2961-437a-b563-595e45b8134b",
   "metadata": {},
   "source": [
    "first_name = \"Alessandro\""
   ]
  },
  {
   "cell_type": "markdown",
   "id": "1c7024dd-bcbf-4114-8733-86cd0d151566",
   "metadata": {},
   "source": [
    "last_name = \"Turco\""
   ]
  },
  {
   "cell_type": "markdown",
   "id": "8edd2d31-f55f-4f22-9192-18dc482b64d9",
   "metadata": {},
   "source": [
    "my_name = first_name + \" \" + last_name"
   ]
  },
  {
   "cell_type": "markdown",
   "id": "e61b8791-c2cd-404c-8e1e-cc6cd8186c67",
   "metadata": {},
   "source": [
    "print(my_name)"
   ]
  },
  {
   "cell_type": "code",
   "execution_count": 19,
   "id": "1e1ddd56-5f75-4f3d-be88-23e568422314",
   "metadata": {},
   "outputs": [],
   "source": [
    "#Problem 4"
   ]
  },
  {
   "cell_type": "markdown",
   "id": "f710ad57-28f7-4669-a0da-24fc8a469df0",
   "metadata": {},
   "source": [
    "happiness_rating = (ice_cream_rating + sleeping_rating)/2"
   ]
  },
  {
   "cell_type": "markdown",
   "id": "4de0730e-3789-499d-b776-e68e5b466457",
   "metadata": {},
   "source": [
    "print(happiness_rating)"
   ]
  },
  {
   "cell_type": "code",
   "execution_count": 1,
   "id": "38baa0a7-bfc5-474c-bbd1-277b164baf70",
   "metadata": {},
   "outputs": [],
   "source": [
    "#Problem 5"
   ]
  },
  {
   "cell_type": "markdown",
   "id": "4a3f654c-cb7b-4b9a-945a-56714abbe0c7",
   "metadata": {},
   "source": [
    "print(type(happiness_rating).__name__, type(ice_cream_rating).__name__, type(sleeping_rating).__name__)"
   ]
  },
  {
   "cell_type": "markdown",
   "id": "75d0503f-8476-4913-90f5-dd9dc6a038ea",
   "metadata": {},
   "source": [
    "print(type(happiness_rating), type(ice_cream_rating), type(sleeping_rating))"
   ]
  },
  {
   "cell_type": "code",
   "execution_count": 16,
   "id": "ece747ce-647f-4717-a06d-a22211c74349",
   "metadata": {},
   "outputs": [],
   "source": [
    "#Problem 6"
   ]
  },
  {
   "cell_type": "markdown",
   "id": "a3e19b73-ca2d-4dc9-82be-bb821a7b36c9",
   "metadata": {},
   "source": [
    "print(\"My name is\",  first_name, \"and I give eating ice cream a score of\",  ice_cream_rating, \"out of 10!\")\n",
    "print(\"I am\", my_name, \"and my sleeping enjoyment rating is\", sleeping_rating, \"/ 10!\")\n",
    "print(\"Based on the factors above, my happiness rating is\", happiness_rating, \"out of 10, or 95.0 %!\")"
   ]
  },
  {
   "cell_type": "code",
   "execution_count": null,
   "id": "5500eabb-5814-4b5e-8c76-188a9fc5b6a4",
   "metadata": {},
   "outputs": [],
   "source": []
  }
 ],
 "metadata": {
  "kernelspec": {
   "display_name": "Python 3 (ipykernel)",
   "language": "python",
   "name": "python3"
  },
  "language_info": {
   "codemirror_mode": {
    "name": "ipython",
    "version": 3
   },
   "file_extension": ".py",
   "mimetype": "text/x-python",
   "name": "python",
   "nbconvert_exporter": "python",
   "pygments_lexer": "ipython3",
   "version": "3.11.11"
  }
 },
 "nbformat": 4,
 "nbformat_minor": 5
}
